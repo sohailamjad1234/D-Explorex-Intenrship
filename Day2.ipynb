{
 "cells": [
  {
   "cell_type": "code",
   "execution_count": 1,
   "id": "53941b97-c2d1-43ea-a7af-f4f738199ceb",
   "metadata": {},
   "outputs": [
    {
     "name": "stdin",
     "output_type": "stream",
     "text": [
      "Enter your Height in numbers 12\n",
      "Enter your width in numbers  14\n"
     ]
    },
    {
     "name": "stdout",
     "output_type": "stream",
     "text": [
      "This is the area of rectangle: 168.0\n"
     ]
    }
   ],
   "source": [
    "Height = float(input(\"Enter your Height in numbers\"))\n",
    "width = float (input(\"Enter your width in numbers \"))\n",
    "Area= Height* width\n",
    "print(\"This is the area of rectangle:\",Area)"
   ]
  },
  {
   "cell_type": "code",
   "execution_count": 3,
   "id": "babcc94e-8c24-4719-894a-1d28154717ae",
   "metadata": {},
   "outputs": [
    {
     "name": "stdin",
     "output_type": "stream",
     "text": [
      "Enter your number: 32\n"
     ]
    },
    {
     "name": "stdout",
     "output_type": "stream",
     "text": [
      "This is the square of two numbers : 1024\n"
     ]
    }
   ],
   "source": [
    "num=int(input(\"Enter your number:\"))\n",
    "square= num**2\n",
    "print(\"This is the square of two numbers :\",square)"
   ]
  },
  {
   "cell_type": "code",
   "execution_count": 5,
   "id": "1b216a88-d6c0-4e4f-a442-a93394d89a9d",
   "metadata": {},
   "outputs": [
    {
     "name": "stdin",
     "output_type": "stream",
     "text": [
      "Enter the first number: 12\n",
      "Enter the second number: 34\n"
     ]
    },
    {
     "name": "stdout",
     "output_type": "stream",
     "text": [
      "This is the Answer of all calcultions 46.0 -22.0 408.0 0.35294117647058826\n"
     ]
    }
   ],
   "source": [
    "num1=float(input(\"Enter the first number:\"))\n",
    "num2=float(input(\"Enter the second number:\"))\n",
    "addition=num1+num2\n",
    "subtraction=num1-num2\n",
    "multiplication=num1*num2\n",
    "division=num1/num2\n",
    "print(\"This is the Answer of all calcultions\",addition,)"
   ]
  },
  {
   "cell_type": "code",
   "execution_count": null,
   "id": "c8f3d8cd-e312-4343-aa15-3b29dd0bce7b",
   "metadata": {},
   "outputs": [],
   "source": []
  }
 ],
 "metadata": {
  "kernelspec": {
   "display_name": "Python 3 (ipykernel)",
   "language": "python",
   "name": "python3"
  },
  "language_info": {
   "codemirror_mode": {
    "name": "ipython",
    "version": 3
   },
   "file_extension": ".py",
   "mimetype": "text/x-python",
   "name": "python",
   "nbconvert_exporter": "python",
   "pygments_lexer": "ipython3",
   "version": "3.12.4"
  }
 },
 "nbformat": 4,
 "nbformat_minor": 5
}

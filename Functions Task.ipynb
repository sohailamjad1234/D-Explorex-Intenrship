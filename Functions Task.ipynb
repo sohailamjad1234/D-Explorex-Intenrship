{
 "cells": [
  {
   "cell_type": "markdown",
   "id": "214e110b-91c9-43b2-91a8-6a8f12e86162",
   "metadata": {},
   "source": [
    "                                                         Task no 1:\n",
    "Statement: Find the area of a rectangle.\n",
    "Formula: Area = Length × Width\n",
    "Example: Length = 5, Width = 3, Area = ?\n",
    "\n",
    "                                                         "
   ]
  },
  {
   "cell_type": "code",
   "execution_count": 7,
   "id": "6091c774-ce6f-4d65-b9de-0d8ec79a2b70",
   "metadata": {},
   "outputs": [
    {
     "name": "stdin",
     "output_type": "stream",
     "text": [
      "Enter the Lenght of Rectangle 4\n",
      "Enter the width of Triangle 4\n"
     ]
    },
    {
     "name": "stdout",
     "output_type": "stream",
     "text": [
      "This is the Area of Rectangle 16.0\n"
     ]
    }
   ],
   "source": [
    "def B_inputt():\n",
    "    Length=float(input(\"Enter the Lenght of Rectangle\"))\n",
    "    width=float(input(\"Enter the width of Triangle\"))\n",
    "    return Length,width\n",
    "def Areaa(Length,width):\n",
    "    Area=Length*width\n",
    "    print(\"This is the Area of Rectangle\",Area)\n",
    "Length,width=B_inputt()\n",
    "Areaa(Length,width)"
   ]
  },
  {
   "cell_type": "markdown",
   "id": "ec1b0384-b9eb-4748-864d-62e3951167c8",
   "metadata": {},
   "source": [
    "                                      Task n02:\n",
    "Statement: Determine the longer side of a rectangle.\n",
    "Formula: Compare Length and Width\n",
    "Example: Length = 4, Width = 6, Longer Side = ?\n"
   ]
  },
  {
   "cell_type": "code",
   "execution_count": 13,
   "id": "dbea221e-dbda-409c-886c-52104b03bf85",
   "metadata": {},
   "outputs": [
    {
     "name": "stdin",
     "output_type": "stream",
     "text": [
      "Enter the Lenght of Rectangle 4\n",
      "Enter the width of Triangle 3\n"
     ]
    },
    {
     "name": "stdout",
     "output_type": "stream",
     "text": [
      "The length this greater then width\n"
     ]
    }
   ],
   "source": [
    " def longer_sidee(length,width):\n",
    "    if length>width:\n",
    "        print(\"The length this greater then width\")\n",
    "    else:\n",
    "        print(\"The width is greater then Length\")\n",
    "Length,width=B_inputt()\n",
    "longer_sidee(Length,width)\n"
   ]
  },
  {
   "cell_type": "markdown",
   "id": "5939c884-4aca-43b4-9201-b0bd768c0535",
   "metadata": {},
   "source": [
    "                                         Task n0 4:\n",
    "Statement: Calculate the perimeter of a rectangle.\n",
    "Formula: Perimeter = 2 × (Length + Width)\n",
    "Example: Length = 3, Width = 4, Perimeter = ?\n",
    "\n"
   ]
  },
  {
   "cell_type": "code",
   "execution_count": 16,
   "id": "b22447e7-ac6e-472b-83b9-7e93d33213f6",
   "metadata": {},
   "outputs": [
    {
     "name": "stdin",
     "output_type": "stream",
     "text": [
      "Enter the Lenght of Rectangle 34\n",
      "Enter the width of Triangle 56\n"
     ]
    },
    {
     "name": "stdout",
     "output_type": "stream",
     "text": [
      "This is the premiter of rectangle 3808.0\n"
     ]
    }
   ],
   "source": [
    "def primeterr(length,wiedth):\n",
    "    primeter=2*(length*width)\n",
    "    print(\"This is the premiter of rectangle\",primeter)\n",
    "Length,width=B_inputt()\n",
    "primeterr(Length,width)    \n",
    "    "
   ]
  },
  {
   "cell_type": "code",
   "execution_count": null,
   "id": "32f7c5b5-a1c1-4152-97fa-4098f71a4732",
   "metadata": {},
   "outputs": [],
   "source": [
    "                                                Task n0 4:\n"
   ]
  },
  {
   "cell_type": "code",
   "execution_count": 20,
   "id": "8e8df30b-f77f-4034-a9f5-c4695bc2428f",
   "metadata": {},
   "outputs": [
    {
     "name": "stdin",
     "output_type": "stream",
     "text": [
      "Enter the first number 67\n",
      "Enter the second number 87\n"
     ]
    }
   ],
   "source": [
    "def B_sohail():\n",
    "    num1=input(\"Enter the first number\")\n",
    "    num2=input(\"Enter the second number\")\n",
    "    return num1,num2\n",
    "def greater(num1,num2):\n",
    "    if num1>num2:\n",
    "        return num1\n",
    "    else:\n",
    "        return num2\n",
    "def big(num):\n",
    "    print(\"The greater number is num:\",num)\n",
    "num1,num2 =B_sohail() \n",
    "num=greater(num1,num2)\n",
    "big(num)"
   ]
  },
  {
   "cell_type": "code",
   "execution_count": 21,
   "id": "5b80790d-8829-4f14-9905-a23be06f1b9c",
   "metadata": {},
   "outputs": [],
   "source": []
  },
  {
   "cell_type": "code",
   "execution_count": 22,
   "id": "ffc4c769-210e-4169-a334-1130913439f1",
   "metadata": {},
   "outputs": [
    {
     "name": "stdout",
     "output_type": "stream",
     "text": [
      "The greater number is num: 87\n"
     ]
    }
   ],
   "source": []
  },
  {
   "cell_type": "markdown",
   "id": "084c4089-4ae3-4506-8c03-c5bdf0886358",
   "metadata": {},
   "source": [
    "                                                          Task n0 5:\n",
    "Statement: Check if a shape is a square.\n",
    "Formula: Length == Width\n",
    "Example: Length = 5, Width = 5, Is Square = ?\n"
   ]
  },
  {
   "cell_type": "code",
   "execution_count": 2,
   "id": "5043d42d-3c9b-4454-8951-251baa9a24e6",
   "metadata": {},
   "outputs": [
    {
     "name": "stdin",
     "output_type": "stream",
     "text": [
      "Enter your length: 5\n",
      "Enter your width: 7\n"
     ]
    },
    {
     "name": "stdout",
     "output_type": "stream",
     "text": [
      "This is not square shape:\n"
     ]
    }
   ],
   "source": [
    "def square():\n",
    "    length=float(input(\"Enter your length:\"))\n",
    "    width=float(input(\"Enter your width:\"))\n",
    "    return length,width\n",
    "def chk_square(length,width):\n",
    "    if length==width:\n",
    "        print(\"This is the square shape:\")\n",
    "    else:\n",
    "        print (\"This is not square shape:\")\n",
    "        \n",
    "length,width=square()\n",
    "chk_square(length,width)\n",
    "    "
   ]
  },
  {
   "cell_type": "markdown",
   "id": "62145f71-d89d-4241-80c8-f9f705b9a370",
   "metadata": {},
   "source": [
    "                                                Task n0 6:\n",
    "Age Checker: Write a Python program to check if a person is eligible to vote (18+ years).\n",
    "Input: Age\n",
    "Output: \"Eligible to vote\" or \"Not eligible to vote\"\n",
    "Hint: Use if-else and comparison operators.\n",
    "                                                "
   ]
  },
  {
   "cell_type": "markdown",
   "id": "73743ba6-e018-45ff-b0ff-fd2d9ac29da8",
   "metadata": {},
   "source": [
    "def age():\n",
    "    Age=int(input(\"Enter your Age:\"))\n",
    "    return Age\n",
    "def age_checker(Age):\n",
    "    if Age>18:\n",
    "        return (\"You are Eligible for vote\")\n",
    "    else:\n",
    "        return (\"You are not Eligible for vote\")\n",
    "def output(s):\n",
    "    print(s)\n",
    "Age=age()\n",
    "s=age_checker(age)\n",
    "output(s)\n",
    "\n",
    "    \n",
    "  \n",
    "    \n",
    "    \n",
    "        \n",
    "    "
   ]
  },
  {
   "cell_type": "code",
   "execution_count": 12,
   "id": "3ccaa533-9127-464d-a82e-93a48d748145",
   "metadata": {},
   "outputs": [
    {
     "name": "stdin",
     "output_type": "stream",
     "text": [
      "Enter your Age:  14\n"
     ]
    },
    {
     "name": "stdout",
     "output_type": "stream",
     "text": [
      "You are not Eligible to vote\n"
     ]
    }
   ],
   "source": [
    "def age():\n",
    "    Age = int(input(\"Enter your Age: \"))\n",
    "    return Age\n",
    "\n",
    "def age_checker(Age):\n",
    "    if Age > 18:\n",
    "        return \"You are Eligible to vote\"\n",
    "    else:\n",
    "        return \"You are not Eligible to vote\"\n",
    "\n",
    "def output(s):\n",
    "    print(s)\n",
    "user_age = age()\n",
    "s = age_checker(Age)\n",
    "output(s)\n"
   ]
  },
  {
   "cell_type": "markdown",
   "id": "89e16930-ec44-48e9-89d9-e22a560757d3",
   "metadata": {},
   "source": [
    "                                                 Task n0 7:\n"
   ]
  },
  {
   "cell_type": "code",
   "execution_count": 10,
   "id": "012cc7ef-12b0-4938-a368-beef6380b1f0",
   "metadata": {},
   "outputs": [
    {
     "name": "stdin",
     "output_type": "stream",
     "text": [
      "Enter your marks 90\n"
     ]
    },
    {
     "name": "stdout",
     "output_type": "stream",
     "text": [
      "A\n",
      "None\n"
     ]
    }
   ],
   "source": [
    "def Marks():\n",
    "    marks=int(input(\"Enter your marks\"))\n",
    "    return marks\n",
    "def marks_checker(marks):   \n",
    "    if(marks>=90):\n",
    "        print(\"A\")\n",
    "    elif(marks>=80):\n",
    "        print(\"B\")\n",
    "    elif(marks>=70):\n",
    "        print(\"C\")\n",
    "    elif(marks>=60):\n",
    "        print(\"D\")\n",
    "    else:\n",
    "        print(\"F\")\n",
    "        return marks\n",
    "def grade(z):\n",
    "     print(z)\n",
    "marks=Marks()\n",
    "z=marks_checker(marks)\n",
    "grade (z)\n",
    "    \n"
   ]
  },
  {
   "cell_type": "markdown",
   "id": "d34fee96-c34a-4a7d-bc2c-3d1af34991f1",
   "metadata": {},
   "source": [
    "                                               Task no 8:\n",
    "Leap Year Checker: Check if a year is a leap year."
   ]
  },
  {
   "cell_type": "code",
   "execution_count": 19,
   "id": "93c75276-3ddf-4ae7-a593-0db5e619b77e",
   "metadata": {},
   "outputs": [
    {
     "name": "stdin",
     "output_type": "stream",
     "text": [
      "Plz enter the year: 20\n"
     ]
    },
    {
     "name": "stdout",
     "output_type": "stream",
     "text": [
      "this is a laep  year\n"
     ]
    }
   ],
   "source": [
    "def leap():\n",
    "    year=float(input(\"Plz enter the year:\"))\n",
    "    return year\n",
    "def year_checker(year):\n",
    "    if year%4==0:\n",
    "        return  (\"this is a laep  year\")\n",
    "    else:\n",
    "        return  \"This is not a leap year\"\n",
    "def leap_year(d):\n",
    "    print(d)\n",
    "year=leap()\n",
    "d=year_checker(year)\n",
    "leap_year(d)\n",
    "    "
   ]
  },
  {
   "cell_type": "code",
   "execution_count": null,
   "id": "736168a8-7b84-4d25-b51e-9d3f49fb5ad1",
   "metadata": {},
   "outputs": [],
   "source": [
    "                                          Task n0 8:\n",
    "Maximum Number: Find the maximum of two numbers."
   ]
  },
  {
   "cell_type": "code",
   "execution_count": 20,
   "id": "d282a53c-87a1-43fd-8d3b-a6dc5ce4977b",
   "metadata": {},
   "outputs": [
    {
     "name": "stdin",
     "output_type": "stream",
     "text": [
      "Enter the firdt number plz: 45\n",
      "Enter the second number plz: 34\n"
     ]
    },
    {
     "name": "stdout",
     "output_type": "stream",
     "text": [
      "The number x is greater then y\n"
     ]
    }
   ],
   "source": [
    "def Maxiuum():\n",
    "    x=int(input(\"Enter the firdt number plz:\"))\n",
    "    y=int(input(\"Enter the second number plz:\"))\n",
    "    return x,y\n",
    "def Maxium_checker(x,y):\n",
    "    if x>y:\n",
    "        return \"The number x is greater then y\"\n",
    "    else:\n",
    "        return \"The numer y  is greater then x\"\n",
    "def number(T):\n",
    "    print(T)\n",
    "x,y=Maxiuum()\n",
    "T=Maxium_checker(x,y)\n",
    "number(T)"
   ]
  },
  {
   "cell_type": "markdown",
   "id": "5df0a8aa-1c18-4e60-9619-b777f1bfb253",
   "metadata": {},
   "source": [
    "                                           Task n0 9:\n",
    "Even/Odd Checker: Check if a number is even or odd."
   ]
  },
  {
   "cell_type": "code",
   "execution_count": 24,
   "id": "b5f38aa7-04ee-4c8d-93fc-98157c323e6a",
   "metadata": {},
   "outputs": [
    {
     "name": "stdin",
     "output_type": "stream",
     "text": [
      "Enter the number plz 4\n"
     ]
    },
    {
     "name": "stdout",
     "output_type": "stream",
     "text": [
      "ThE number is even \n"
     ]
    }
   ],
   "source": [
    "def even():\n",
    "    num=int(input(\"Enter the number plz\"))\n",
    "    return num\n",
    "def odd(num):\n",
    "    if num%2==0:\n",
    "        return \"ThE number is even \"\n",
    "    else:\n",
    "        return \"The number is odd\"\n",
    "def num_checker(Sohail):\n",
    "    print(sohail)\n",
    "num=even()\n",
    "sohail=odd(num)\n",
    "num_checker(sohail)\n",
    "\n",
    "    \n",
    "    "
   ]
  },
  {
   "cell_type": "markdown",
   "id": "5edf6fc6-318e-4d7b-8ffc-f786bfeb6952",
   "metadata": {},
   "source": [
    "                                             Tak n0 10:\n",
    "Attendance Checker: Check if attendance percentage is greater than or equal to 75%."
   ]
  },
  {
   "cell_type": "code",
   "execution_count": 26,
   "id": "90c70b9f-c411-4140-9c65-50cd92fe7b47",
   "metadata": {},
   "outputs": [
    {
     "ename": "NameError",
     "evalue": "name 'Attandance' is not defined",
     "output_type": "error",
     "traceback": [
      "\u001b[1;31m---------------------------------------------------------------------------\u001b[0m",
      "\u001b[1;31mNameError\u001b[0m                                 Traceback (most recent call last)",
      "Cell \u001b[1;32mIn[26], line 11\u001b[0m\n\u001b[0;32m      9\u001b[0m \u001b[38;5;28;01mdef\u001b[39;00m \u001b[38;5;21mresult\u001b[39m(Final):\n\u001b[0;32m     10\u001b[0m     \u001b[38;5;28mprint\u001b[39m(Final)\n\u001b[1;32m---> 11\u001b[0m Final\u001b[38;5;241m=\u001b[39mpercentage_checker(Attandance)\n\u001b[0;32m     12\u001b[0m result(Final)\n",
      "\u001b[1;31mNameError\u001b[0m: name 'Attandance' is not defined"
     ]
    }
   ],
   "source": [
    "def percentage():\n",
    "    Attandance=float(input(\"Enter the Attandance percentage plz\"))\n",
    "    return Attandance\n",
    "def percentage_checker(Attandance):\n",
    "    if percentage>75:\n",
    "        return\"The student is eligible for vote\"\n",
    "    else:\n",
    "        return \"The student is not eligble for vote\"\n",
    "def result(Final):\n",
    "    print(Final)\n",
    "Final=percentage_checker(Attandance)\n",
    "result(Final)"
   ]
  },
  {
   "cell_type": "code",
   "execution_count": null,
   "id": "2517a1aa-e728-40e5-ac11-6845e92de5d8",
   "metadata": {},
   "outputs": [],
   "source": []
  }
 ],
 "metadata": {
  "kernelspec": {
   "display_name": "Python 3 (ipykernel)",
   "language": "python",
   "name": "python3"
  },
  "language_info": {
   "codemirror_mode": {
    "name": "ipython",
    "version": 3
   },
   "file_extension": ".py",
   "mimetype": "text/x-python",
   "name": "python",
   "nbconvert_exporter": "python",
   "pygments_lexer": "ipython3",
   "version": "3.12.4"
  }
 },
 "nbformat": 4,
 "nbformat_minor": 5
}

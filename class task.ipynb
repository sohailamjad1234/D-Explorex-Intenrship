{
 "cells": [
  {
   "cell_type": "code",
   "execution_count": 73,
   "id": "bf55bd63-b843-46f6-98bd-8e2eaa6bc168",
   "metadata": {},
   "outputs": [
    {
     "name": "stdin",
     "output_type": "stream",
     "text": [
      "Enter the total purchase amount 55\n"
     ]
    },
    {
     "name": "stdout",
     "output_type": "stream",
     "text": [
      "Total cosgt 55\n"
     ]
    }
   ],
   "source": [
    " amount=int(input(\"Enter the total purchase amount\"))\n",
    "if amount<=50:\n",
    "    amount=amount+10\n",
    "    print(\"The total cost is=\",amount)\n",
    "else:\n",
    "    print(\"Total cosgt\",amount)"
   ]
  },
  {
   "cell_type": "code",
   "execution_count": null,
   "id": "505c64a5-b52a-4a92-ad31-77bfda9f4c49",
   "metadata": {},
   "outputs": [],
   "source": []
  }
 ],
 "metadata": {
  "kernelspec": {
   "display_name": "Python 3 (ipykernel)",
   "language": "python",
   "name": "python3"
  },
  "language_info": {
   "codemirror_mode": {
    "name": "ipython",
    "version": 3
   },
   "file_extension": ".py",
   "mimetype": "text/x-python",
   "name": "python",
   "nbconvert_exporter": "python",
   "pygments_lexer": "ipython3",
   "version": "3.12.4"
  }
 },
 "nbformat": 4,
 "nbformat_minor": 5
}

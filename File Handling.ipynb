{
 "cells": [
  {
   "cell_type": "code",
   "execution_count": null,
   "id": "c6fa8c2c-be8d-4421-bd33-18e5663d7257",
   "metadata": {},
   "outputs": [
    {
     "name": "stdin",
     "output_type": "stream",
     "text": [
      "enter \n",
      " 1:for add account \n",
      " 2: for view account \n",
      " 3:for delete account \n",
      " 4: Exist \n",
      " 1\n",
      "Enter your account Number: 90\n",
      "enter \n",
      " 1:for add account \n",
      " 2: for view account \n",
      " 3:for delete account \n",
      " 4: Exist \n",
      " 2\n"
     ]
    },
    {
     "name": "stdout",
     "output_type": "stream",
     "text": [
      "23\n",
      "2\n",
      "my first account\n",
      "56\n",
      "67\n",
      "34\n",
      "89\n",
      "90\n"
     ]
    },
    {
     "name": "stdin",
     "output_type": "stream",
     "text": [
      "enter \n",
      " 1:for add account \n",
      " 2: for view account \n",
      " 3:for delete account \n",
      " 4: Exist \n",
      " 3\n",
      "Enter the number you want to delete 3\n",
      "enter \n",
      " 1:for add account \n",
      " 2: for view account \n",
      " 3:for delete account \n",
      " 4: Exist \n",
      " 2\n"
     ]
    },
    {
     "name": "stdout",
     "output_type": "stream",
     "text": [
      "23\n",
      "2\n",
      "56\n",
      "67\n",
      "34\n",
      "89\n",
      "90\n"
     ]
    },
    {
     "name": "stdin",
     "output_type": "stream",
     "text": [
      "enter \n",
      " 1:for add account \n",
      " 2: for view account \n",
      " 3:for delete account \n",
      " 4: Exist \n",
      " 3\n",
      "Enter the number you want to delete 6\n",
      "enter \n",
      " 1:for add account \n",
      " 2: for view account \n",
      " 3:for delete account \n",
      " 4: Exist \n",
      " 2\n"
     ]
    },
    {
     "name": "stdout",
     "output_type": "stream",
     "text": [
      "23\n",
      "2\n",
      "56\n",
      "67\n",
      "34\n",
      "90\n"
     ]
    }
   ],
   "source": [
    "def add_account():\n",
    "    with open(\"bank.txt\",\"a\") as at:\n",
    "        Account=input(\"Enter your account Number:\")\n",
    "        at.write(f\"{Account}\\n\")\n",
    "def read_detail():\n",
    "    with open(\"bank.txt\",\"r\") as rf:\n",
    "        Detail= rf.readlines()\n",
    "        for i in Detail:\n",
    "            print(i.strip())\n",
    "def del_data():\n",
    "    with open (\"bank.txt\",\"r\") as dt:\n",
    "        tn=int(input(\"Enter the number you want to delete\"))\n",
    "        deel= dt.readlines()\n",
    "        deel.pop(tn-1)\n",
    "    with open(\"bank.txt\",\"w\") as f:\n",
    "        f.writelines(deel)\n",
    "while True:\n",
    "    extra_Features= input(\"enter \\n 1:for add account \\n 2: for view account \\n 3:for delete account \\n 4: Exist \\n\")\n",
    "    if extra_Features==\"1\" :\n",
    "        add_account()\n",
    "    elif extra_Features==\"2\" :\n",
    "        read_detail()\n",
    "    elif extra_Features==\"3\" :\n",
    "        del_data()\n",
    "    elif extra_Features==\"4\" :\n",
    "        break\n",
    "    else:\n",
    "        print(\"Invalid account number\")\n",
    "        \n",
    "        \n",
    "        "
   ]
  },
  {
   "cell_type": "code",
   "execution_count": null,
   "id": "b98bc27c-9fe5-41ad-a062-cd92b8e256ea",
   "metadata": {},
   "outputs": [],
   "source": []
  }
 ],
 "metadata": {
  "kernelspec": {
   "display_name": "Python 3 (ipykernel)",
   "language": "python",
   "name": "python3"
  },
  "language_info": {
   "codemirror_mode": {
    "name": "ipython",
    "version": 3
   },
   "file_extension": ".py",
   "mimetype": "text/x-python",
   "name": "python",
   "nbconvert_exporter": "python",
   "pygments_lexer": "ipython3",
   "version": "3.12.4"
  }
 },
 "nbformat": 4,
 "nbformat_minor": 5
}

{
 "cells": [
  {
   "cell_type": "code",
   "execution_count": 12,
   "id": "b59bdace-01e6-4c93-8c4e-0a664d7410fb",
   "metadata": {},
   "outputs": [],
   "source": [
    "def food (food_item,tip,total):\n",
    "    food_item=[chicken==200,beaf==400,haleem==350,biryani==550]\n",
    "    tip=int(input(\"Enter the tip amount\"))\n",
    "    total=sum(food_item)\n",
    "    return food\n",
    "    if tip>0:\n",
    "        total_bill=total/10\n",
    "        print(total_bill)\n",
    "    else:\n",
    "        print(\"No tip\")"
   ]
  },
  {
   "cell_type": "markdown",
   "id": "926e277a-fb68-494a-9e59-bfa796ca366d",
   "metadata": {},
   "source": [
    "                                                          Task n0 2:\n",
    "Write a function that takes a temperature in Fahrenheit and returns the temperature in Celsius.\n",
    "Hint: Use the formula: C = (F - 32) * 5/9.\n",
    "                                                          "
   ]
  },
  {
   "cell_type": "code",
   "execution_count": 2,
   "id": "52770ab2-e7c0-4a9e-acfe-235789601f87",
   "metadata": {},
   "outputs": [
    {
     "name": "stdin",
     "output_type": "stream",
     "text": [
      "Enter the your temperature in Fahrenheit 56.89\n"
     ]
    },
    {
     "name": "stdout",
     "output_type": "stream",
     "text": [
      "This is the temperature in Celcius 13.827777777777778\n"
     ]
    }
   ],
   "source": [
    "def temp():\n",
    "    Fahrenheit=float(input(\"Enter the your temperature in Fahrenheit\"))\n",
    "    return Fahrenheit\n",
    "def celsiu(Fahrenheit):\n",
    "    celsius=(Fahrenheit-32)*5/9\n",
    "    print(\"This is the temperature in Celcius\",celsius)\n",
    "Fahrenheit=temp()\n",
    "celsiu(Fahrenheit)\n",
    "    \n",
    "    "
   ]
  },
  {
   "cell_type": "markdown",
   "id": "9990e838-f91b-4edb-bcd6-ca6564918981",
   "metadata": {},
   "source": [
    "                                            Task n0 3:\n",
    "Write a function that takes two numbers and an operator (+, -, *, /) and returns the result of the calculation."
   ]
  },
  {
   "cell_type": "code",
   "execution_count": 13,
   "id": "d83e73ab-d971-46f3-8440-1d32ad83fc4b",
   "metadata": {},
   "outputs": [
    {
     "name": "stdin",
     "output_type": "stream",
     "text": [
      "Enter the number plz 5\n",
      "Enter the number 2 plz 5\n",
      "Enter the operator plz (+,-,*,/): +\n"
     ]
    },
    {
     "name": "stdout",
     "output_type": "stream",
     "text": [
      "This is the sum of a+b= 10.0\n"
     ]
    }
   ],
   "source": [
    "def num():\n",
    "    a=float(input(\"Enter the number plz\"))\n",
    "    b=float(input(\"Enter the number 2 plz\"))\n",
    "    operator=input(\"Enter the operator plz (+,-,*,/):\")\n",
    "    return a,b,operator\n",
    "def processing(a,b,operator):\n",
    "    if operator=='+':\n",
    "        print (\"This is the sum of a+b=\",a+b)\n",
    "    elif operator== '-':\n",
    "        print(\"This is the subtraction of a-b=\",a-b) \n",
    "    elif operator== '*':\n",
    "        print(\"This is the multiplication a*b=\", a*b)\n",
    "    elif operator== '/':\n",
    "        print(\"This is the  division of a/b=\", a/b)\n",
    "    else:\n",
    "        print (\"The user is putting the wrong operator\")\n",
    "a,b,operator=num()\n",
    "processing(a,b,operator)\n",
    "        \n"
   ]
  },
  {
   "cell_type": "markdown",
   "id": "e5c0c8a8-11cf-4164-b7c5-d06999494b3a",
   "metadata": {},
   "source": [
    "                                             Task n0 4:\n",
    "Write a function that takes a user’s name and the current time of day, and returns a greeting like \"Good morning, [Name]!\"\n"
   ]
  },
  {
   "cell_type": "code",
   "execution_count": 14,
   "id": "13d2b5a4-015e-4331-a815-b3319de061f0",
   "metadata": {},
   "outputs": [
    {
     "ename": "SyntaxError",
     "evalue": "invalid decimal literal (893552463.py, line 6)",
     "output_type": "error",
     "traceback": [
      "\u001b[1;36m  Cell \u001b[1;32mIn[14], line 6\u001b[1;36m\u001b[0m\n\u001b[1;33m    if current_time is 5:0am to 11:59:\u001b[0m\n\u001b[1;37m                         ^\u001b[0m\n\u001b[1;31mSyntaxError\u001b[0m\u001b[1;31m:\u001b[0m invalid decimal literal\n"
     ]
    }
   ],
   "source": [
    "def time():\n",
    "    Name=input(\"Enter your name plz\")\n",
    "    Current_time=float(\"Enter the currant time plz\")\n",
    "    return Name,Current_time\n",
    "def processing( Name,Current_time):\n",
    "     if current_time is 5:0am to 11:59:\n",
    "        print(Good morning my jan what should you tea or cofee[Name])\n",
    "        \n",
    "    \n"
   ]
  },
  {
   "cell_type": "code",
   "execution_count": null,
   "id": "d462d7fa-7f01-4ab1-9eb9-e4fbf12ff921",
   "metadata": {},
   "outputs": [],
   "source": []
  }
 ],
 "metadata": {
  "kernelspec": {
   "display_name": "Python 3 (ipykernel)",
   "language": "python",
   "name": "python3"
  },
  "language_info": {
   "codemirror_mode": {
    "name": "ipython",
    "version": 3
   },
   "file_extension": ".py",
   "mimetype": "text/x-python",
   "name": "python",
   "nbconvert_exporter": "python",
   "pygments_lexer": "ipython3",
   "version": "3.12.4"
  }
 },
 "nbformat": 4,
 "nbformat_minor": 5
}

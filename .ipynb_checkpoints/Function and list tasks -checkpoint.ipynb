{
 "cells": [
  {
   "cell_type": "code",
   "execution_count": 12,
   "id": "b59bdace-01e6-4c93-8c4e-0a664d7410fb",
   "metadata": {},
   "outputs": [],
   "source": [
    "def food (food_item,tip,total):\n",
    "    food_item=[chicken==200,beaf==400,haleem==350,biryani==550]\n",
    "    tip=int(input(\"Enter the tip amount\"))\n",
    "    total=sum(food_item)\n",
    "    return food\n",
    "    if tip>0:\n",
    "        total_bill=total/10\n",
    "        print(total_bill)\n",
    "    else:\n",
    "        print(\"No tip\")"
   ]
  },
  {
   "cell_type": "markdown",
   "id": "926e277a-fb68-494a-9e59-bfa796ca366d",
   "metadata": {},
   "source": [
    "                                                          Task n0 2:\n",
    "Write a function that takes a temperature in Fahrenheit and returns the temperature in Celsius.\n",
    "Hint: Use the formula: C = (F - 32) * 5/9.\n",
    "                                                          "
   ]
  },
  {
   "cell_type": "code",
   "execution_count": 2,
   "id": "52770ab2-e7c0-4a9e-acfe-235789601f87",
   "metadata": {},
   "outputs": [
    {
     "name": "stdin",
     "output_type": "stream",
     "text": [
      "Enter the your temperature in Fahrenheit 56.89\n"
     ]
    },
    {
     "name": "stdout",
     "output_type": "stream",
     "text": [
      "This is the temperature in Celcius 13.827777777777778\n"
     ]
    }
   ],
   "source": [
    "def temp():\n",
    "    Fahrenheit=float(input(\"Enter the your temperature in Fahrenheit\"))\n",
    "    return Fahrenheit\n",
    "def celsiu(Fahrenheit):\n",
    "    celsius=(Fahrenheit-32)*5/9\n",
    "    print(\"This is the temperature in Celcius\",celsius)\n",
    "Fahrenheit=temp()\n",
    "celsiu(Fahrenheit)\n",
    "    \n",
    "    "
   ]
  },
  {
   "cell_type": "markdown",
   "id": "9990e838-f91b-4edb-bcd6-ca6564918981",
   "metadata": {},
   "source": [
    "                                            Task n0 3:\n",
    "Write a function that takes two numbers and an operator (+, -, *, /) and returns the result of the calculation."
   ]
  },
  {
   "cell_type": "code",
   "execution_count": 13,
   "id": "d83e73ab-d971-46f3-8440-1d32ad83fc4b",
   "metadata": {},
   "outputs": [
    {
     "name": "stdin",
     "output_type": "stream",
     "text": [
      "Enter the number plz 5\n",
      "Enter the number 2 plz 5\n",
      "Enter the operator plz (+,-,*,/): +\n"
     ]
    },
    {
     "name": "stdout",
     "output_type": "stream",
     "text": [
      "This is the sum of a+b= 10.0\n"
     ]
    }
   ],
   "source": [
    "def num():\n",
    "    a=float(input(\"Enter the number plz\"))\n",
    "    b=float(input(\"Enter the number 2 plz\"))\n",
    "    operator=input(\"Enter the operator plz (+,-,*,/):\")\n",
    "    return a,b,operator\n",
    "def processing(a,b,operator):\n",
    "    if operator=='+':\n",
    "        print (\"This is the sum of a+b=\",a+b)\n",
    "    elif operator== '-':\n",
    "        print(\"This is the subtraction of a-b=\",a-b) \n",
    "    elif operator== '*':\n",
    "        print(\"This is the multiplication a*b=\", a*b)\n",
    "    elif operator== '/':\n",
    "        print(\"This is the  division of a/b=\", a/b)\n",
    "    else:\n",
    "        print (\"The user is putting the wrong operator\")\n",
    "a,b,operator=num()\n",
    "processing(a,b,operator)\n",
    "        \n"
   ]
  },
  {
   "cell_type": "markdown",
   "id": "e5c0c8a8-11cf-4164-b7c5-d06999494b3a",
   "metadata": {},
   "source": [
    "                                             Task n0 4:\n",
    "Write a function that takes a user’s name and the current time of day, and returns a greeting like \"Good morning, [Name]!\"\n"
   ]
  },
  {
   "cell_type": "code",
   "execution_count": 13,
   "id": "9db6a3bb-db3a-42ad-a6ef-356db3e03157",
   "metadata": {},
   "outputs": [
    {
     "name": "stdin",
     "output_type": "stream",
     "text": [
      "Enter your name plz Sohail\n",
      "Enter the currant time plz 13\n"
     ]
    },
    {
     "name": "stdout",
     "output_type": "stream",
     "text": [
      "Good afternoon Sohail\n"
     ]
    }
   ],
   "source": [
    "def time():\n",
    "    Name=input(\"Enter your name plz\")\n",
    "    current_time=int(input(\"Enter the currant time plz\"))\n",
    "    return Name,current_time\n",
    "def processing( Name,current_time):\n",
    "    if 5<= current_time<12:\n",
    "        print(\"Good morning\",Name)\n",
    "    elif 12<= current_time <=17:\n",
    "        print('Good afternoon',Name)\n",
    "Name,current_time=time()\n",
    "processing(Name,current_time)\n",
    "    \n",
    "        \n",
    "    \n"
   ]
  },
  {
   "cell_type": "markdown",
   "id": "8f52cd97-8879-44ac-9666-a4ec560cdaa1",
   "metadata": {},
   "source": [
    "                                                Task n0 5:\n",
    "Write a function that takes a list of numbers and returns the largest number.\n",
    "Hint: Use Python’s built-in max() function or manually loop through the list to find the largest number"
   ]
  },
  {
   "cell_type": "code",
   "execution_count": 26,
   "id": "0c2f4fc7-b3c2-4b30-9b59-cbd429a28950",
   "metadata": {},
   "outputs": [
    {
     "ename": "SyntaxError",
     "evalue": "invalid syntax (148526448.py, line 6)",
     "output_type": "error",
     "traceback": [
      "\u001b[1;36m  Cell \u001b[1;32mIn[26], line 6\u001b[1;36m\u001b[0m\n\u001b[1;33m    for i in range max_number[0]:\u001b[0m\n\u001b[1;37m                   ^\u001b[0m\n\u001b[1;31mSyntaxError\u001b[0m\u001b[1;31m:\u001b[0m invalid syntax\n"
     ]
    }
   ],
   "source": [
    "def Maxiu(score):\n",
    "    score=[1,2,3,4,5,6,7,8,9,10]\n",
    "    return Maxiu\n",
    "def max(Maxiu):\n",
    "\n",
    "    \n",
    "\n",
    "    "
   ]
  },
  {
   "cell_type": "markdown",
   "id": "e99ca52c-b43d-4737-bd4e-4fbfbbd8ed02",
   "metadata": {},
   "source": [
    "                                                         Task n0 6:\n",
    "Write a loop that prints all even numbers between 1 and 100.\n",
    "Hint: Use the modulo operator (%) to check if a number is even, and a loop to iterate through the range."
   ]
  },
  {
   "cell_type": "code",
   "execution_count": 31,
   "id": "47034759-b1d2-46a1-80c0-09cee0749f43",
   "metadata": {},
   "outputs": [
    {
     "name": "stdout",
     "output_type": "stream",
     "text": [
      "The number is even 2\n",
      "The number is even 4\n",
      "The number is even 6\n",
      "The number is even 8\n",
      "The number is even 10\n",
      "The number is even 12\n",
      "The number is even 14\n",
      "The number is even 16\n",
      "The number is even 18\n",
      "The number is even 20\n",
      "The number is even 22\n",
      "The number is even 24\n",
      "The number is even 26\n",
      "The number is even 28\n",
      "The number is even 30\n",
      "The number is even 32\n",
      "The number is even 34\n",
      "The number is even 36\n",
      "The number is even 38\n",
      "The number is even 40\n",
      "The number is even 42\n",
      "The number is even 44\n",
      "The number is even 46\n",
      "The number is even 48\n",
      "The number is even 50\n",
      "The number is even 52\n",
      "The number is even 54\n",
      "The number is even 56\n",
      "The number is even 58\n",
      "The number is even 60\n",
      "The number is even 62\n",
      "The number is even 64\n",
      "The number is even 66\n",
      "The number is even 68\n",
      "The number is even 70\n",
      "The number is even 72\n",
      "The number is even 74\n",
      "The number is even 76\n",
      "The number is even 78\n",
      "The number is even 80\n",
      "The number is even 82\n",
      "The number is even 84\n",
      "The number is even 86\n",
      "The number is even 88\n",
      "The number is even 90\n",
      "The number is even 92\n",
      "The number is even 94\n",
      "The number is even 96\n",
      "The number is even 98\n"
     ]
    }
   ],
   "source": [
    "#num1=1\n",
    "#num2=100\n",
    "for i in range (1,100):\n",
    "    \n",
    "    if i%2==0:\n",
    "        print(\"The number is even\",i)"
   ]
  },
  {
   "cell_type": "code",
   "execution_count": null,
   "id": "5384bd2c-0e72-4348-bf21-c59a8a44610f",
   "metadata": {},
   "outputs": [],
   "source": [
    "                                                      Task n0 7:\n"
   ]
  }
 ],
 "metadata": {
  "kernelspec": {
   "display_name": "Python 3 (ipykernel)",
   "language": "python",
   "name": "python3"
  },
  "language_info": {
   "codemirror_mode": {
    "name": "ipython",
    "version": 3
   },
   "file_extension": ".py",
   "mimetype": "text/x-python",
   "name": "python",
   "nbconvert_exporter": "python",
   "pygments_lexer": "ipython3",
   "version": "3.12.4"
  }
 },
 "nbformat": 4,
 "nbformat_minor": 5
}

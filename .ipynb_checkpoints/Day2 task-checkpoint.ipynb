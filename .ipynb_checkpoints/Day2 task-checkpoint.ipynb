{
 "cells": [
  {
   "cell_type": "markdown",
   "id": "9ed32567-da29-452d-8142-6f5ca2c09ae3",
   "metadata": {},
   "source": [
    "                          Task no 1"
   ]
  },
  {
   "cell_type": "code",
   "execution_count": 13,
   "id": "0d9a8cec-b6dd-46d9-b56f-702fad386fbe",
   "metadata": {},
   "outputs": [
    {
     "name": "stdin",
     "output_type": "stream",
     "text": [
      "Enter your name sohail\n",
      "Enter your age in years  22\n"
     ]
    },
    {
     "name": "stdout",
     "output_type": "stream",
     "text": [
      "Hello ['sohail'] your age ['22'] years old\n"
     ]
    }
   ],
   "source": [
    "name=input(\"Enter your name\")\n",
    "age=int(input(\"Enter your age in years \"))\n",
    "print(\"Hello\",[name],\"your age\",[age] ,\"years old\")"
   ]
  },
  {
   "cell_type": "markdown",
   "id": "7ce0e7e9-7bba-40cf-9c1a-095ae24f4290",
   "metadata": {},
   "source": [
    "                           Task no 2"
   ]
  },
  {
   "cell_type": "code",
   "execution_count": 19,
   "id": "db1d974a-ecec-4f1a-91f5-48bb24f57189",
   "metadata": {},
   "outputs": [
    {
     "name": "stdin",
     "output_type": "stream",
     "text": [
      "Enter your length in numbers 25\n",
      "Enter your width in numbers 78\n"
     ]
    },
    {
     "name": "stdout",
     "output_type": "stream",
     "text": [
      "Arae of Rectangle is = 1950.0\n"
     ]
    }
   ],
   "source": [
    "length=float(input(\"Enter your length in numbers\"))\n",
    "width=float(input(\"Enter your width in numbers\"))\n",
    "arae=length*width\n",
    "print(\"Arae of Rectangle is =\",arae)\n"
   ]
  },
  {
   "cell_type": "markdown",
   "id": "7700e78b-a5e7-4a10-96ba-72e31f767505",
   "metadata": {},
   "source": [
    "                         Task no 3:"
   ]
  },
  {
   "cell_type": "code",
   "execution_count": 53,
   "id": "08fc8101-bc62-4a7c-8677-04e1606283ff",
   "metadata": {},
   "outputs": [
    {
     "name": "stdin",
     "output_type": "stream",
     "text": [
      "Enter the temperature in celcius 989.21\n"
     ]
    },
    {
     "name": "stdout",
     "output_type": "stream",
     "text": [
      "temperature in Fahrenhiet= 1812.578\n"
     ]
    }
   ],
   "source": [
    "celcius=float(input(\"Enter the temperature in celcius\"))\n",
    "Fahrenhiet=(celcius*9/5)+32\n",
    "print(\"temperature in Fahrenhiet=\",Fahrenhiet)\n"
   ]
  },
  {
   "cell_type": "markdown",
   "id": "09b7623a-0f39-41db-b43e-7650e47515d1",
   "metadata": {},
   "source": [
    "                         :Task no 4"
   ]
  },
  {
   "cell_type": "code",
   "execution_count": null,
   "id": "7d28b8c1-94e9-45d8-ac7b-f28e5239848d",
   "metadata": {},
   "outputs": [],
   "source": []
  },
  {
   "cell_type": "code",
   "execution_count": 61,
   "id": "ee96bf21-e53d-4cae-b018-a19a16637fed",
   "metadata": {},
   "outputs": [
    {
     "name": "stdin",
     "output_type": "stream",
     "text": [
      "Enter the item price in numbers 23\n",
      "Enter the sales tax of item in numbers  12\n"
     ]
    },
    {
     "name": "stdout",
     "output_type": "stream",
     "text": [
      "Total cost of item = 2.88\n"
     ]
    }
   ],
   "source": [
    "price=float(input(\"Enter the item price in numbers\"))\n",
    "tax=float(input(\"Enter the sales tax of item in numbers \"))\n",
    "saletax=tax/100\n",
    "listprice= saletax*price\n",
    "totalcost=listprice+saletax\n",
    "print(\"Total cost of item =\",totalcost)\n"
   ]
  },
  {
   "cell_type": "code",
   "execution_count": null,
   "id": "c954d1bd-9618-45e1-9cf6-dd008603e934",
   "metadata": {},
   "outputs": [],
   "source": []
  }
 ],
 "metadata": {
  "kernelspec": {
   "display_name": "Python 3 (ipykernel)",
   "language": "python",
   "name": "python3"
  },
  "language_info": {
   "codemirror_mode": {
    "name": "ipython",
    "version": 3
   },
   "file_extension": ".py",
   "mimetype": "text/x-python",
   "name": "python",
   "nbconvert_exporter": "python",
   "pygments_lexer": "ipython3",
   "version": "3.12.4"
  }
 },
 "nbformat": 4,
 "nbformat_minor": 5
}

{
 "cells": [
  {
   "cell_type": "markdown",
   "id": "9ed32567-da29-452d-8142-6f5ca2c09ae3",
   "metadata": {},
   "source": [
    "                          Task no 1"
   ]
  },
  {
   "cell_type": "code",
   "execution_count": 13,
   "id": "0d9a8cec-b6dd-46d9-b56f-702fad386fbe",
   "metadata": {},
   "outputs": [
    {
     "name": "stdin",
     "output_type": "stream",
     "text": [
      "Enter your name sohail\n",
      "Enter your age in years  22\n"
     ]
    },
    {
     "name": "stdout",
     "output_type": "stream",
     "text": [
      "Hello ['sohail'] your age ['22'] years old\n"
     ]
    }
   ],
   "source": [
    "name=input(\"Enter your name\")\n",
    "age=int(input(\"Enter your age in years \"))\n",
    "print(\"Hello\",[name],\"your age\",[age] ,\"years old\")"
   ]
  },
  {
   "cell_type": "markdown",
   "id": "7ce0e7e9-7bba-40cf-9c1a-095ae24f4290",
   "metadata": {},
   "source": [
    "                           Task no 2"
   ]
  },
  {
   "cell_type": "code",
   "execution_count": 19,
   "id": "db1d974a-ecec-4f1a-91f5-48bb24f57189",
   "metadata": {},
   "outputs": [
    {
     "name": "stdin",
     "output_type": "stream",
     "text": [
      "Enter your length in numbers 25\n",
      "Enter your width in numbers 78\n"
     ]
    },
    {
     "name": "stdout",
     "output_type": "stream",
     "text": [
      "Arae of Rectangle is = 1950.0\n"
     ]
    }
   ],
   "source": [
    "length=float(input(\"Enter your length in numbers\"))\n",
    "width=float(input(\"Enter your width in numbers\"))\n",
    "arae=length*width\n",
    "print(\"Arae of Rectangle is =\",arae)\n"
   ]
  },
  {
   "cell_type": "markdown",
   "id": "7700e78b-a5e7-4a10-96ba-72e31f767505",
   "metadata": {},
   "source": [
    "                         Task no 3:"
   ]
  },
  {
   "cell_type": "code",
   "execution_count": 1,
   "id": "08fc8101-bc62-4a7c-8677-04e1606283ff",
   "metadata": {},
   "outputs": [
    {
     "name": "stdin",
     "output_type": "stream",
     "text": [
      "Enter the temperature in celcius 45.8\n"
     ]
    },
    {
     "name": "stdout",
     "output_type": "stream",
     "text": [
      "temperature in Fahrenhiet= 114.44\n"
     ]
    }
   ],
   "source": [
    "celcius=float(input(\"Enter the temperature in celcius\"))\n",
    "Fahrenhiet=(celcius*(9/5))+32\n",
    "print(\"temperature in Fahrenhiet=\",Fahrenhiet)\n"
   ]
  },
  {
   "cell_type": "markdown",
   "id": "09b7623a-0f39-41db-b43e-7650e47515d1",
   "metadata": {},
   "source": [
    "                         :Task no 4"
   ]
  },
  {
   "cell_type": "code",
   "execution_count": null,
   "id": "7d28b8c1-94e9-45d8-ac7b-f28e5239848d",
   "metadata": {},
   "outputs": [],
   "source": []
  },
  {
   "cell_type": "code",
   "execution_count": 9,
   "id": "ee96bf21-e53d-4cae-b018-a19a16637fed",
   "metadata": {},
   "outputs": [
    {
     "name": "stdin",
     "output_type": "stream",
     "text": [
      "Enter the item price in numbers 100\n",
      "Enter the sales tax of item in numbers  2\n"
     ]
    },
    {
     "name": "stdout",
     "output_type": "stream",
     "text": [
      "Total cost of item = 102.0\n"
     ]
    }
   ],
   "source": [
    "price=float(input(\"Enter the item price in numbers\"))\n",
    "tax=float(input(\"Enter the sales tax of item in numbers \"))\n",
    "#tot_amount=((tax/100)*price)+price\n",
    "print(\"Total cost of item =\",((tax/100)*price)+price)\n"
   ]
  },
  {
   "cell_type": "markdown",
   "id": "b18e3550-5543-4686-aad3-6fc7e0df87b8",
   "metadata": {},
   "source": [
    "                                   Task no 5:\n",
    "                                    asks the user for the distance traveled in kilometers and the fuel efficiency in kilometers per liter, then calculates and prints the amount of fuel consumed."
   ]
  },
  {
   "cell_type": "code",
   "execution_count": 5,
   "id": "9cf01751-4679-403f-9ef4-e912b88d1207",
   "metadata": {},
   "outputs": [
    {
     "name": "stdin",
     "output_type": "stream",
     "text": [
      "Enter the distance in kilometers 23\n",
      "Enter the fuel efficiency  13\n"
     ]
    },
    {
     "name": "stdout",
     "output_type": "stream",
     "text": [
      "Total fuel consumed= 1.7692307692307692\n"
     ]
    }
   ],
   "source": [
    "distance=float(input(\"Enter the distance in kilometers\"))\n",
    "Fuel_Efficiency=float(input(\"Enter the fuel efficiency \"))\n",
    "Fuel_consumed=distance/Fuel_Efficiency\n",
    "print(\"Total fuel consumed=\",Fuel_consumed)\n"
   ]
  },
  {
   "cell_type": "markdown",
   "id": "92d7108a-0d43-4de1-8c7a-53ff9171638f",
   "metadata": {},
   "source": [
    "                                            Task no 6:\n",
    "                                             that asks the user for the total bill amount and the tip percentage, then calculates and prints the total amount to be paid. "
   ]
  },
  {
   "cell_type": "code",
   "execution_count": 9,
   "id": "7452d0b4-3746-4e86-851f-87f4cb146977",
   "metadata": {},
   "outputs": [
    {
     "name": "stdin",
     "output_type": "stream",
     "text": [
      "Enter the total amount of bill 2000\n",
      "Enter the tip percentage of bill 34.5\n"
     ]
    },
    {
     "name": "stdout",
     "output_type": "stream",
     "text": [
      "Total amount of bill paid is = 2690.0\n"
     ]
    }
   ],
   "source": [
    "bill=int(input(\"Enter the total amount of bill\"))\n",
    "tip=float(input(\"Enter the tip percentage of bill\"))\n",
    "tip_percentage=(bill*tip)/100\n",
    "Total_amount=tip_percentage+bill\n",
    "print(\"Total amount of bill paid is =\",Total_amount)"
   ]
  },
  {
   "cell_type": "code",
   "execution_count": null,
   "id": "80273835-35cb-4a47-9560-7010ee566ab9",
   "metadata": {},
   "outputs": [],
   "source": [
    "                                          Task no 7:\n",
    "Program that asks the user for the base and height of a triangle, then calculates and prints the area..\n",
    " "
   ]
  },
  {
   "cell_type": "code",
   "execution_count": 3,
   "id": "2c766170-ddc9-4cb4-bcfb-c8a03736c23a",
   "metadata": {},
   "outputs": [
    {
     "name": "stdin",
     "output_type": "stream",
     "text": [
      "Enter the base of the triangle 45\n",
      "Enter the height of the triangle 67\n"
     ]
    },
    {
     "name": "stdout",
     "output_type": "stream",
     "text": [
      "This is the area of the triangle = 1507.5\n"
     ]
    }
   ],
   "source": [
    "base=int(input(\"Enter the base of the triangle\"))\n",
    "height=int(input(\"Enter the height of the triangle\"))\n",
    "area=(base*height)/# This the formula to calculte the area of triangle:\n",
    "print(\"This is the area of the triangle =\",area)"
   ]
  },
  {
   "cell_type": "markdown",
   "id": "88a538b0-65fb-4d7b-8bf0-8c698b868585",
   "metadata": {},
   "source": [
    "                                            Task no 8:\n",
    "  that asks the user for the length, width, and height of a rectangular prism, then calculates and prints the volume.                                           "
   ]
  },
  {
   "cell_type": "code",
   "execution_count": 7,
   "id": "f18853b7-d389-4083-bd77-3841a1fdb37f",
   "metadata": {},
   "outputs": [
    {
     "name": "stdin",
     "output_type": "stream",
     "text": [
      "Enter the length of rectangle 23\n",
      "Enter the width of rectangle 45\n",
      "Enter the Height of rectangle 67\n"
     ]
    },
    {
     "name": "stdout",
     "output_type": "stream",
     "text": [
      "This is the volume of the rectangular prism= 69345.0\n"
     ]
    }
   ],
   "source": [
    "length=float(input(\"Enter the length of rectangle\"))\n",
    "width=float(input(\"Enter the width of rectangle\"))\n",
    "height=float(input(\"Enter the Height of rectangle\"))\n",
    "volume=length*width*height\n",
    "print(\"This is the volume of the rectangular prism=\" ,volume)\n",
    "\n"
   ]
  },
  {
   "cell_type": "markdown",
   "id": "f475d5d2-d6cc-46c0-b741-d35c329605ad",
   "metadata": {},
   "source": [
    "                                            Task no 9:\n",
    "program in python  that asks the user for the radius of a circle, then calculates and prints the circumference.                                           "
   ]
  },
  {
   "cell_type": "code",
   "execution_count": 9,
   "id": "77e1eec6-8750-413a-a3dd-059275999c91",
   "metadata": {},
   "outputs": [
    {
     "name": "stdin",
     "output_type": "stream",
     "text": [
      "Enter the radius of the circle 45\n"
     ]
    },
    {
     "name": "stdout",
     "output_type": "stream",
     "text": [
      "This the circumference of the circle= 282.74309999999997\n"
     ]
    }
   ],
   "source": [
    "radius=float(input(\"Enter the radius of the circle\"))\n",
    "circumference=(2*3.14159)*radius\n",
    "print(\"This the circumference of the circle=\",circumference)"
   ]
  },
  {
   "cell_type": "markdown",
   "id": "fd61e2af-405f-4457-a56b-1c44ce976b63",
   "metadata": {},
   "source": [
    "                                               Task no 10:"
   ]
  },
  {
   "cell_type": "code",
   "execution_count": null,
   "id": "42222a00-c404-4b75-8e45-74ec4692bf89",
   "metadata": {},
   "outputs": [],
   "source": []
  }
 ],
 "metadata": {
  "kernelspec": {
   "display_name": "Python 3 (ipykernel)",
   "language": "python",
   "name": "python3"
  },
  "language_info": {
   "codemirror_mode": {
    "name": "ipython",
    "version": 3
   },
   "file_extension": ".py",
   "mimetype": "text/x-python",
   "name": "python",
   "nbconvert_exporter": "python",
   "pygments_lexer": "ipython3",
   "version": "3.12.4"
  }
 },
 "nbformat": 4,
 "nbformat_minor": 5
}

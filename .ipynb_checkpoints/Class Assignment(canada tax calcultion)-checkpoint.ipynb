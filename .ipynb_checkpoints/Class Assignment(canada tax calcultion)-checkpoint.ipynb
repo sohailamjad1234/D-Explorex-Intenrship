{
 "cells": [
  {
   "cell_type": "code",
   "execution_count": null,
   "id": "29d3b2c7-7093-4b22-bc38-193484907427",
   "metadata": {},
   "outputs": [],
   "source": []
  },
  {
   "cell_type": "code",
   "execution_count": 23,
   "id": "3872dabc-1f0d-4625-9d9e-ca441954f2fe",
   "metadata": {},
   "outputs": [
    {
     "name": "stdin",
     "output_type": "stream",
     "text": [
      "Enter the country name pakistan\n",
      "Enter your total order amount 40000\n"
     ]
    },
    {
     "name": "stdout",
     "output_type": "stream",
     "text": [
      "This user from other country and her total order=: 40000\n"
     ]
    }
   ],
   "source": [
    "country=input(\"Enter the country name\")\n",
    "amount=int(input(\"Enter your total order amount\"))\n",
    "if(country== 'canada'):\n",
    "    province=input(\"Enter your province name\")\n",
    "    if(province== 'alberta'):\n",
    "        GST=(amount*0.5)/100\n",
    "        total=GST+amount\n",
    "        print(\"This user from Alberta and her tax charges and total amount\",total)\n",
    "    elif(province==\"ontario\"or province ==\"new Brunswick\" or province==\"nova scotia\"):\n",
    "         harmonized_sale=(amount*13)/100\n",
    "         total_harmonized=harmonized_sale+amount\n",
    "         print(\"The user from these given provinces and Harmonized sale=:\",total_harmonized)\n",
    "    else:\n",
    "        province_charge=(amount*0.6)/100\n",
    "        total_province=province_charge+amount\n",
    "        print(\"The total province charge=:\",total_province)\n",
    "        gst_tax=(amount*.05)/100\n",
    "        total_gst=gst_tax+amount\n",
    "        print(\"This is the total gst_tax:\",total_gst)\n",
    "        Total_tax=total_province+total_gst\n",
    "        Total_amount=Total_tax+amount\n",
    "        print(\"This is the Final order price:\",Total_amount)\n",
    "else:\n",
    "    print(\"This user from other country and her total order=:\",amount)\n",
    "         "
   ]
  },
  {
   "cell_type": "markdown",
   "id": "e056bd31-fae9-44bc-b1fc-34d65453f45d",
   "metadata": {},
   "source": [
    "                                        Task no 2:\n",
    "Write a Python program that:\n",
    "\n",
    "Takes an input of a student's attendance percentage.\n",
    "Takes an input of the student's total marks.\n",
    "If the attendance percentage is greater than or equal to 75% and the total marks are greater than or equal to 40, print \"Student is eligible for the exam.\"\n",
    "If either condition is not met, print \"Student is not eligible for the exam.\""
   ]
  },
  {
   "cell_type": "code",
   "execution_count": 7,
   "id": "acc8035e-f679-436c-9d94-cc536123beb1",
   "metadata": {},
   "outputs": [
    {
     "name": "stdin",
     "output_type": "stream",
     "text": [
      "Enter the student Attandance percentage: 73\n",
      "Enter the student total marks 79\n"
     ]
    },
    {
     "name": "stdout",
     "output_type": "stream",
     "text": [
      "The student is not eligible for exams\n"
     ]
    }
   ],
   "source": [
    "Attandance_percetage=float(input(\"Enter the student Attandance percentage:\"))\n",
    "Marks=int(input(\"Enter the student total marks\"))\n",
    "if(Attandance_percetage>=75 and Marks>=40):\n",
    "    print(\"The student is eligible for exam\")\n",
    "else:\n",
    "    print(\"The student is not eligible for exams\")"
   ]
  },
  {
   "cell_type": "markdown",
   "id": "66afdc04-5361-4c9b-ac59-8601ebe92fca",
   "metadata": {},
   "source": [
    "                                          Task no 4:\n",
    "Write a Python program that:\n",
    "\n",
    "Takes three inputs: hours worked, hourly rate, and bonus.\n",
    "Calculate the total salary:\n",
    "If the hours worked are greater than 40, calculate overtime pay (1.5 times the hourly rate for extra hours).\n",
    "If the hours worked are 40 or less, calculate the regular salary (hours worked multiplied by hourly rate).\n",
    "Add the bonus to the total salary.\n",
    "Print the final salary."
   ]
  },
  {
   "cell_type": "code",
   "execution_count": 49,
   "id": "795d169c-545c-4ea7-9343-43d3b8d31dc9",
   "metadata": {},
   "outputs": [
    {
     "name": "stdin",
     "output_type": "stream",
     "text": [
      "Enter the Hours  worked by Labour: 45\n",
      "Enter the Hourly_rate : 2\n",
      "Enter the bouns amount: 0\n"
     ]
    },
    {
     "name": "stdout",
     "output_type": "stream",
     "text": [
      "Overtime 5.0\n",
      "This is the overtime salary 337.5\n"
     ]
    }
   ],
   "source": [
    "Hours_worked=float(input(\"Enter the Hours  worked by Labour:\"))\n",
    "Hourly_rate=float(input(\"Enter the Hourly_rate :\"))\n",
    "Bouns=float(input(\"Enter the bouns amount:\"))\n",
    "if Hours_worked>40:\n",
    "    Overtime=Hours_worked-40\n",
    "    print('Overtime',Overtime)\n",
    "    overtime_salary=Overtime*1.5*Hours_worked\n",
    "    print(\"This is the overtime salary\",overtime_salary)\n",
    "else:\n",
    "    Regular_salary=Hours_worked*Hourly_rate\n",
    "    Total_salary=Regular_salary+Bouns\n",
    "    print(\"This is the Total salary of Labour=\",Total_salary)\n",
    "\n",
    "    \n",
    "    "
   ]
  },
  {
   "cell_type": "code",
   "execution_count": null,
   "id": "35801e35-4ca6-4416-9ff3-ee3319602484",
   "metadata": {},
   "outputs": [],
   "source": []
  }
 ],
 "metadata": {
  "kernelspec": {
   "display_name": "Python 3 (ipykernel)",
   "language": "python",
   "name": "python3"
  },
  "language_info": {
   "codemirror_mode": {
    "name": "ipython",
    "version": 3
   },
   "file_extension": ".py",
   "mimetype": "text/x-python",
   "name": "python",
   "nbconvert_exporter": "python",
   "pygments_lexer": "ipython3",
   "version": "3.12.4"
  }
 },
 "nbformat": 4,
 "nbformat_minor": 5
}

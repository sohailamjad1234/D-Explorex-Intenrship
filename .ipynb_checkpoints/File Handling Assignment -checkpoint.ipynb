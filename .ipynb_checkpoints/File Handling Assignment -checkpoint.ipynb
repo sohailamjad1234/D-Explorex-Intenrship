{
 "cells": [
  {
   "cell_type": "code",
   "execution_count": null,
   "id": "e2d32993-b1ca-4104-9ba4-4b869c58b857",
   "metadata": {},
   "outputs": [],
   "source": [
    "choice=input(\"Enter 1 for account title  \\n and Account Number \\n 2 for view Account:\") "
   ]
  },
  {
   "cell_type": "code",
   "execution_count": 3,
   "id": "a641a380-17b2-4125-8fe4-defd6afbe8f3",
   "metadata": {},
   "outputs": [
    {
     "ename": "SyntaxError",
     "evalue": "invalid syntax (4039103305.py, line 6)",
     "output_type": "error",
     "traceback": [
      "\u001b[1;36m  Cell \u001b[1;32mIn[3], line 6\u001b[1;36m\u001b[0m\n\u001b[1;33m    title=ewith open(\"Account_Title.txt \",\"w\") as at:\u001b[0m\n\u001b[1;37m                ^\u001b[0m\n\u001b[1;31mSyntaxError\u001b[0m\u001b[1;31m:\u001b[0m invalid syntax\n"
     ]
    }
   ],
   "source": [
    "def account_detail():\n",
    "    if choice== \"1\":\n",
    "        title=input(\"Enter the account title \")\n",
    "        ac_number=int(input(\"Enter the account number\"))\n",
    "    elif choice==\"2\":\n",
    "     title=ewith open(\"Account_Title.txt \",\"w\") as at:\n",
    "        at.writelines(f\"{title}\\n\")\n",
    "        ac_number= with open(\"Account_number.txt\",\"w\") as  an:\n",
    "        an.writelines(f\"{ac_number}\\n\")\n",
    "    else:\n",
    "        print(\"Inalid instructions\")\n",
    "account_detail()        \n",
    "    "
   ]
  },
  {
   "cell_type": "code",
   "execution_count": 3,
   "id": "9d3f66e5-88d5-4aa1-a2e3-719a4d2ea963",
   "metadata": {},
   "outputs": [
    {
     "name": "stdin",
     "output_type": "stream",
     "text": [
      "Enter 1 for account title  \n",
      " and Account Number \n",
      " 2 for view Account: 2\n"
     ]
    },
    {
     "name": "stdout",
     "output_type": "stream",
     "text": [
      "sohail\n",
      "\n",
      "234\n",
      "\n",
      "dfg\n",
      "\n",
      "123\n",
      "\n",
      "123\n",
      "\n"
     ]
    }
   ],
   "source": [
    "def account_title():\n",
    "    choice=input(\"Enter 1 for account title  \\n and Account Number \\n 2 for view Account:\") \n",
    "    if choice==\"1\":\n",
    "        title=input(\"Enter the account title\")\n",
    "        with open (\"Account_Title.txt\",\"a\") as at:\n",
    "            at.writelines(f\"{title}\\n\")\n",
    "        number=int(input(\"Enter th account number\"))\n",
    "        with open(\"Account_number.txt\",\"a\") as an:\n",
    "            an.writelines(f\"{number}\\n\")\n",
    "    elif choice==\"2\":\n",
    "        with open (\"Account_Title.txt\",\"r\") as rf:\n",
    "            a=rf.readlines()\n",
    "            for i in a:\n",
    "                print(i)\n",
    "        with open (\"Account_number.txt\",\"r\") as rn:\n",
    "            b=rn.readlines()\n",
    "            for i in b:\n",
    "                print(i)\n",
    "    else:\n",
    "        print(\"Inalid instructions\")\n",
    "        \n",
    "account_title()        \n",
    "    "
   ]
  },
  {
   "cell_type": "code",
   "execution_count": null,
   "id": "120951a9-2f22-484d-8781-7e530733eb06",
   "metadata": {},
   "outputs": [],
   "source": []
  }
 ],
 "metadata": {
  "kernelspec": {
   "display_name": "Python 3 (ipykernel)",
   "language": "python",
   "name": "python3"
  },
  "language_info": {
   "codemirror_mode": {
    "name": "ipython",
    "version": 3
   },
   "file_extension": ".py",
   "mimetype": "text/x-python",
   "name": "python",
   "nbconvert_exporter": "python",
   "pygments_lexer": "ipython3",
   "version": "3.12.4"
  }
 },
 "nbformat": 4,
 "nbformat_minor": 5
}

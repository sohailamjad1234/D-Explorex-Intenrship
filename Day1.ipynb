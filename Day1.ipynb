{
 "cells": [
  {
   "cell_type": "markdown",
   "id": "06211ff7-1529-4a40-ac8b-66bb8f4c7730",
   "metadata": {},
   "source": [
    "# Intro to Python Print function\n",
    " - list items 1\n",
    " - list item 2\n",
    " - list item 3\n",
    "## print funct\n",
    "______\n",
    "### out put\n",
    "> this is imp pointy"
   ]
  },
  {
   "cell_type": "code",
   "execution_count": 12,
   "id": "a9c06f87-550b-4317-8f01-477ea021a086",
   "metadata": {},
   "outputs": [
    {
     "name": "stdout",
     "output_type": "stream",
     "text": [
      "Helo\n"
     ]
    }
   ],
   "source": [
    "print(\"Helo\") # print function "
   ]
  },
  {
   "cell_type": "code",
   "execution_count": null,
   "id": "89c13147-c2b0-47f1-971c-0f2d7e94d5a8",
   "metadata": {},
   "outputs": [],
   "source": []
  }
 ],
 "metadata": {
  "kernelspec": {
   "display_name": "Python 3 (ipykernel)",
   "language": "python",
   "name": "python3"
  },
  "language_info": {
   "codemirror_mode": {
    "name": "ipython",
    "version": 3
   },
   "file_extension": ".py",
   "mimetype": "text/x-python",
   "name": "python",
   "nbconvert_exporter": "python",
   "pygments_lexer": "ipython3",
   "version": "3.12.4"
  }
 },
 "nbformat": 4,
 "nbformat_minor": 5
}

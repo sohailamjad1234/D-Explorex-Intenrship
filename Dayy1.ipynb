{
 "cells": [
  {
   "cell_type": "code",
   "execution_count": 5,
   "id": "e351e77c-691b-423a-a695-be836250c194",
   "metadata": {},
   "outputs": [
    {
     "name": "stdout",
     "output_type": "stream",
     "text": [
      "There once was a movie star icon\n",
      "who preferred to sleep with light on.\n",
      "They learned how to code\n",
      "a device that sure glowed\n",
      "and lit the night using python!\n"
     ]
    }
   ],
   "source": [
    "print(\"There once was a movie star icon\\nwho preferred to sleep with light on.\\nThey learned how to code\\na device that sure glowed\\nand lit the night using python!\")"
   ]
  },
  {
   "cell_type": "code",
   "execution_count": 7,
   "id": "ee5ef347-bce4-4a72-8ac7-a55e16dda49a",
   "metadata": {},
   "outputs": [
    {
     "name": "stdout",
     "output_type": "stream",
     "text": [
      "There once was a movie star icon\n",
      "who preferred to sleep with light on.\n",
      "They learned how to code\n",
      "a device that sure glowed\n",
      "and lit the night using python!\n"
     ]
    }
   ],
   "source": [
    "print('There once was a movie star icon\\nwho preferred to sleep with light on.\\nThey learned how to code\\na device that sure glowed\\nand lit the night using python!')"
   ]
  },
  {
   "cell_type": "code",
   "execution_count": 9,
   "id": "0e935dad-eadb-4a21-a5f4-1135242f8267",
   "metadata": {},
   "outputs": [
    {
     "name": "stdout",
     "output_type": "stream",
     "text": [
      "There once was a movie star icon\n",
      "who preferred to sleep with light on.\n",
      "They learned how to code\n",
      "a device that sure glowed\n",
      "and lit the night using python!\n"
     ]
    }
   ],
   "source": [
    "print('''There once was a movie star icon\n",
    "who preferred to sleep with light on.\n",
    "They learned how to code\n",
    "a device that sure glowed\n",
    "and lit the night using python!''')"
   ]
  },
  {
   "cell_type": "code",
   "execution_count": null,
   "id": "ca6afeff-2043-44fd-87e9-7772d2154bcb",
   "metadata": {},
   "outputs": [],
   "source": []
  }
 ],
 "metadata": {
  "kernelspec": {
   "display_name": "Python 3 (ipykernel)",
   "language": "python",
   "name": "python3"
  },
  "language_info": {
   "codemirror_mode": {
    "name": "ipython",
    "version": 3
   },
   "file_extension": ".py",
   "mimetype": "text/x-python",
   "name": "python",
   "nbconvert_exporter": "python",
   "pygments_lexer": "ipython3",
   "version": "3.12.4"
  }
 },
 "nbformat": 4,
 "nbformat_minor": 5
}

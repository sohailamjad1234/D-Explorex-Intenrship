{
 "cells": [
  {
   "cell_type": "code",
   "execution_count": null,
   "id": "dfa72e30-2ffc-4a75-b735-f0af9cc1b8eb",
   "metadata": {},
   "outputs": [],
   "source": []
  },
  {
   "cell_type": "code",
   "execution_count": null,
   "id": "5e9933c9-7658-4d20-a5c3-ed17c3107a07",
   "metadata": {},
   "outputs": [],
   "source": []
  },
  {
   "cell_type": "code",
   "execution_count": null,
   "id": "29d3b2c7-7093-4b22-bc38-193484907427",
   "metadata": {},
   "outputs": [],
   "source": []
  },
  {
   "cell_type": "code",
   "execution_count": 23,
   "id": "3872dabc-1f0d-4625-9d9e-ca441954f2fe",
   "metadata": {},
   "outputs": [
    {
     "name": "stdin",
     "output_type": "stream",
     "text": [
      "Enter the country name pakistan\n",
      "Enter your total order amount 40000\n"
     ]
    },
    {
     "name": "stdout",
     "output_type": "stream",
     "text": [
      "This user from other country and her total order=: 40000\n"
     ]
    }
   ],
   "source": [
    "country=input(\"Enter the country name\")\n",
    "amount=int(input(\"Enter your total order amount\"))\n",
    "if(country== 'canada'):\n",
    "    province=input(\"Enter your province name\")\n",
    "    if(province== 'alberta'):\n",
    "        GST=(amount*0.5)/100\n",
    "        total=GST+amount\n",
    "        print(\"This user from Alberta and her tax charges and total amount\",total)\n",
    "    elif(province==\"ontario\"or province ==\"new Brunswick\" or province==\"nova scotia\"):\n",
    "         harmonized_sale=(amount*13)/100\n",
    "         total_harmonized=harmonized_sale+amount\n",
    "         print(\"The user from these given provinces and Harmonized sale=:\",total_harmonized)\n",
    "    else:\n",
    "        province_charge=(amount*0.6)/100\n",
    "        total_province=province_charge+amount\n",
    "        print(\"The total province charge=:\",total_province)\n",
    "        gst_tax=(amount*.05)/100\n",
    "        total_gst=gst_tax+amount\n",
    "        print(\"This is the total gst_tax:\",total_gst)\n",
    "        Total_tax=total_province+total_gst\n",
    "        Total_amount=Total_tax+amount\n",
    "        print(\"This is the Final order price:\",Total_amount)\n",
    "else:\n",
    "    print(\"This user from other country and her total order=:\",amount)\n",
    "         "
   ]
  },
  {
   "cell_type": "code",
   "execution_count": null,
   "id": "434fa685-92e4-41d6-9982-ca5f94f9b937",
   "metadata": {},
   "outputs": [],
   "source": []
  }
 ],
 "metadata": {
  "kernelspec": {
   "display_name": "Python 3 (ipykernel)",
   "language": "python",
   "name": "python3"
  },
  "language_info": {
   "codemirror_mode": {
    "name": "ipython",
    "version": 3
   },
   "file_extension": ".py",
   "mimetype": "text/x-python",
   "name": "python",
   "nbconvert_exporter": "python",
   "pygments_lexer": "ipython3",
   "version": "3.12.4"
  }
 },
 "nbformat": 4,
 "nbformat_minor": 5
}

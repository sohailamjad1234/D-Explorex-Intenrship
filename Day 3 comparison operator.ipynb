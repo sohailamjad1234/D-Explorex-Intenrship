{
 "cells": [
  {
   "cell_type": "markdown",
   "id": "1324a0ce-0168-40a8-aea6-8d0137f885fd",
   "metadata": {},
   "source": [
    "# Comparison Operator\n",
    " - (>) greater than\n",
    " -  (<) less then\n",
    " -  (>=) greater then equal to\n",
    " -  (<=) less then equal to\n",
    " -  (== equal to )\n",
    " -  (!=) not equal to\n",
    "\n",
    "   > they havel only two answers only ye sor no, True or False"
   ]
  },
  {
   "cell_type": "code",
   "execution_count": 28,
   "id": "8f6cd9f9-b497-409d-bd3f-0f0c5e74af26",
   "metadata": {},
   "outputs": [],
   "source": [
    "a = 5\n",
    "b = 5"
   ]
  },
  {
   "cell_type": "code",
   "execution_count": 30,
   "id": "bc2451b5-5a25-4341-90d1-448f7bbb446e",
   "metadata": {},
   "outputs": [
    {
     "data": {
      "text/plain": [
       "False"
      ]
     },
     "execution_count": 30,
     "metadata": {},
     "output_type": "execute_result"
    }
   ],
   "source": [
    "a<b"
   ]
  },
  {
   "cell_type": "code",
   "execution_count": 32,
   "id": "a70e3367-780f-4934-b768-5e9ee856e6c9",
   "metadata": {},
   "outputs": [
    {
     "data": {
      "text/plain": [
       "False"
      ]
     },
     "execution_count": 32,
     "metadata": {},
     "output_type": "execute_result"
    }
   ],
   "source": [
    "a> b\n"
   ]
  },
  {
   "cell_type": "code",
   "execution_count": 34,
   "id": "aec55ea8-0cc0-459d-a1ad-d5ef73626152",
   "metadata": {},
   "outputs": [
    {
     "data": {
      "text/plain": [
       "True"
      ]
     },
     "execution_count": 34,
     "metadata": {},
     "output_type": "execute_result"
    }
   ],
   "source": [
    "a <=b"
   ]
  },
  {
   "cell_type": "code",
   "execution_count": 36,
   "id": "071dc02e-69c4-49c0-8eff-8c1bb6b4f70e",
   "metadata": {},
   "outputs": [
    {
     "data": {
      "text/plain": [
       "True"
      ]
     },
     "execution_count": 36,
     "metadata": {},
     "output_type": "execute_result"
    }
   ],
   "source": [
    "a >= b"
   ]
  },
  {
   "cell_type": "code",
   "execution_count": 38,
   "id": "aad750e7-0725-4fed-a9e6-9176269c51b5",
   "metadata": {},
   "outputs": [
    {
     "data": {
      "text/plain": [
       "True"
      ]
     },
     "execution_count": 38,
     "metadata": {},
     "output_type": "execute_result"
    }
   ],
   "source": [
    "a == b"
   ]
  },
  {
   "cell_type": "code",
   "execution_count": 40,
   "id": "d26683c6-2255-4528-a944-fa172b8c4ad6",
   "metadata": {},
   "outputs": [
    {
     "data": {
      "text/plain": [
       "False"
      ]
     },
     "execution_count": 40,
     "metadata": {},
     "output_type": "execute_result"
    }
   ],
   "source": [
    "a != b"
   ]
  },
  {
   "cell_type": "code",
   "execution_count": 57,
   "id": "f666bae9-5b96-45f0-94c0-9c53e938757e",
   "metadata": {},
   "outputs": [
    {
     "name": "stdin",
     "output_type": "stream",
     "text": [
      "enter a value for a : 4\n",
      "enter a value for b : 3\n"
     ]
    },
    {
     "name": "stdout",
     "output_type": "stream",
     "text": [
      "a is greater \n"
     ]
    }
   ],
   "source": [
    "a = int(input(\"enter a value for a :\"))\n",
    "b = int(input(\"enter a value for b :\"))\n",
    "\n",
    "if a <= b :   # colon is used in python after using condition in if   \n",
    "    print(\"b is greater\")   # indentation is importnat in python \n",
    "else:\n",
    "    print(\"a is greater \")"
   ]
  },
  {
   "cell_type": "code",
   "execution_count": null,
   "id": "8f895c77-ad82-419c-bd16-a6d4a1aa967c",
   "metadata": {},
   "outputs": [],
   "source": []
  }
 ],
 "metadata": {
  "kernelspec": {
   "display_name": "Python 3 (ipykernel)",
   "language": "python",
   "name": "python3"
  },
  "language_info": {
   "codemirror_mode": {
    "name": "ipython",
    "version": 3
   },
   "file_extension": ".py",
   "mimetype": "text/x-python",
   "name": "python",
   "nbconvert_exporter": "python",
   "pygments_lexer": "ipython3",
   "version": "3.12.4"
  }
 },
 "nbformat": 4,
 "nbformat_minor": 5
}

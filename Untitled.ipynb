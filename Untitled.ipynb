{
 "cells": [
  {
   "cell_type": "code",
   "execution_count": 1,
   "id": "b78f26be-25b0-4e3c-b48e-09e43968c5df",
   "metadata": {},
   "outputs": [],
   "source": [
    "def check_square():\n",
    "    Length=float(input(\"Enter your length:\"))\n",
    "    width=float(input(\"Enter your width:\"))\n",
    "    return (Length,width)\n",
    "def square(Length,width):\n",
    "    if Length==width:\n",
    "        print(\"This is square shape:\")\n",
    "        return Length,width\n",
    "    else:\n",
    "        print(\"This is not suquare shape:\")\n",
    "def square(numm):\n",
    "    print(\"This is the square shape:\",numm)\n",
    "    Length,width=check_square()\n",
    "    numm=Length,width\n",
    "    square(numm)"
   ]
  },
  {
   "cell_type": "code",
   "execution_count": null,
   "id": "766634b1-d025-43d5-9355-9acb2f30d737",
   "metadata": {},
   "outputs": [],
   "source": []
  }
 ],
 "metadata": {
  "kernelspec": {
   "display_name": "Python 3 (ipykernel)",
   "language": "python",
   "name": "python3"
  },
  "language_info": {
   "codemirror_mode": {
    "name": "ipython",
    "version": 3
   },
   "file_extension": ".py",
   "mimetype": "text/x-python",
   "name": "python",
   "nbconvert_exporter": "python",
   "pygments_lexer": "ipython3",
   "version": "3.12.4"
  }
 },
 "nbformat": 4,
 "nbformat_minor": 5
}

{
 "cells": [
  {
   "cell_type": "markdown",
   "id": "77d2ea9f-f9cc-4226-b978-26b474ef917a",
   "metadata": {},
   "source": [
    "                                      Task 1\n",
    " Age Checker: Write a Python program to check if a person is eligible to vote (18+ years)."
   ]
  },
  {
   "cell_type": "code",
   "execution_count": 2,
   "id": "0a29761b-3574-4f33-9ab1-d019847d12ae",
   "metadata": {},
   "outputs": [
    {
     "name": "stdin",
     "output_type": "stream",
     "text": [
      "What is your age 10\n"
     ]
    },
    {
     "name": "stdout",
     "output_type": "stream",
     "text": [
      "Not Eligible to vote\n"
     ]
    }
   ],
   "source": [
    "age=int(input(\"What is your age\"))\n",
    "if(age>18):\n",
    "    print(\"Eligible to vote\")\n",
    "else:\n",
    "    print(\"Not Eligible to vote\")"
   ]
  },
  {
   "cell_type": "markdown",
   "id": "ac577073-e492-4b15-a477-e2965558753d",
   "metadata": {},
   "source": [
    "                                   Task no 2\n",
    "Grade Calculator: Calculate a student's grade based on their score (out of 100)."
   ]
  },
  {
   "cell_type": "code",
   "execution_count": 14,
   "id": "66f00f49-4e8e-4c67-8e22-9ca1b65e5db3",
   "metadata": {},
   "outputs": [
    {
     "name": "stdin",
     "output_type": "stream",
     "text": [
      "Enter your marks 85\n"
     ]
    },
    {
     "name": "stdout",
     "output_type": "stream",
     "text": [
      "B\n"
     ]
    }
   ],
   "source": [
    "marks=int(input(\"Enter your marks\"))\n",
    "if(marks>=90):\n",
    "    print(\"A\")\n",
    "elif(marks>=80):\n",
    "    print(\"B\")\n",
    "elif(marks>=70):\n",
    "    print(\"C\")\n",
    "elif(marks>=60):\n",
    "    print(\"D\")\n",
    "else:\n",
    "    print(\"F\")"
   ]
  },
  {
   "cell_type": "markdown",
   "id": "78e585ad-8b40-413f-9734-41cd08087488",
   "metadata": {},
   "source": [
    "                                    Task mo 3\n",
    " Leap Year Checker: Check if a year is a leap year."
   ]
  },
  {
   "cell_type": "code",
   "execution_count": 19,
   "id": "f253d3dc-a196-4f21-bc68-9c75fa00d199",
   "metadata": {},
   "outputs": [
    {
     "name": "stdin",
     "output_type": "stream",
     "text": [
      "Enter a year 2004\n"
     ]
    },
    {
     "name": "stdout",
     "output_type": "stream",
     "text": [
      "y is leap Year\n"
     ]
    }
   ],
   "source": [
    "y=int(input(\"Enter a year\"))\n",
    "if(y%4==0):\n",
    "    print(\"y is leap Year\")\n",
    "else:\n",
    "    print(\"y is not leap Year\")    \n"
   ]
  },
  {
   "cell_type": "markdown",
   "id": "2693eee7-aa47-45b8-8ad7-43bd7848cb20",
   "metadata": {},
   "source": [
    "                                              Task no 4\n",
    "Maximum Number: Find the maximum of two numbers."
   ]
  },
  {
   "cell_type": "code",
   "execution_count": 20,
   "id": "2e04e147-a4ec-4839-93db-b4cc3a617f0c",
   "metadata": {},
   "outputs": [
    {
     "name": "stdin",
     "output_type": "stream",
     "text": [
      "Enter a number 4\n",
      "Enter a number 6\n"
     ]
    },
    {
     "name": "stdout",
     "output_type": "stream",
     "text": [
      "Y is Grater\n"
     ]
    }
   ],
   "source": [
    "X=int(input(\"Enter a number\"))\n",
    "Y=int(input(\"Enter a number\"))\n",
    "if(X>Y):\n",
    "    print(\"X is grater\")\n",
    "else:\n",
    "    print(\"Y is Grater\")    "
   ]
  },
  {
   "cell_type": "markdown",
   "id": "2fcbebf1-e559-4083-af3d-31b960a6865a",
   "metadata": {},
   "source": [
    "                                    Task no 5\n",
    "Even/Odd Checker: Check if a number is even or odd."
   ]
  },
  {
   "cell_type": "code",
   "execution_count": 22,
   "id": "215d4351-bd86-4ef1-87f6-8c79bb2f76c2",
   "metadata": {},
   "outputs": [
    {
     "name": "stdin",
     "output_type": "stream",
     "text": [
      "Enter a number 3\n"
     ]
    },
    {
     "name": "stdout",
     "output_type": "stream",
     "text": [
      "Number is Odd\n"
     ]
    }
   ],
   "source": [
    "Number=int(input(\"Enter a number\"))\n",
    "if(Number%2==0):\n",
    "    print(\"Number is Even\")\n",
    "else:\n",
    "    print(\"Number is Odd\")"
   ]
  },
  {
   "cell_type": "code",
   "execution_count": null,
   "id": "1c460697-38ad-45da-8a7f-d8a8a51ff712",
   "metadata": {},
   "outputs": [],
   "source": [
    "                                Task no 6\n",
    "Positive/Negative Checker: Check if a number is positive, negative, or zero."
   ]
  },
  {
   "cell_type": "code",
   "execution_count": 24,
   "id": "802d1072-e24e-405b-9583-687bc21f0832",
   "metadata": {},
   "outputs": [
    {
     "name": "stdin",
     "output_type": "stream",
     "text": [
      "enter a number -34\n"
     ]
    },
    {
     "name": "stdout",
     "output_type": "stream",
     "text": [
      "number is _ve\n"
     ]
    }
   ],
   "source": [
    "N=int(input(\"enter a number\"))\n",
    "if(N>0):\n",
    "    print(\"number is +ve\")\n",
    "else:\n",
    "    print(\"number is _ve\")"
   ]
  },
  {
   "cell_type": "markdown",
   "id": "4863392e-fc68-4c11-b095-97b92656feb2",
   "metadata": {},
   "source": [
    "                                 Task no 7\n",
    "Attendance Checker: Check if attendance percentage is greater than or equal to 75%."
   ]
  },
  {
   "cell_type": "code",
   "execution_count": 27,
   "id": "741e16ef-0144-43b0-8006-5f5d01da82f0",
   "metadata": {},
   "outputs": [
    {
     "name": "stdin",
     "output_type": "stream",
     "text": [
      "enter your attandance 89\n"
     ]
    },
    {
     "name": "stdout",
     "output_type": "stream",
     "text": [
      "eligible to sit in exam\n"
     ]
    }
   ],
   "source": [
    "attandance=float(input(\"enter your attandance\"))\n",
    "if(attandance>=75):\n",
    "    print(\"eligible to sit in exam\")\n",
    "else:\n",
    "    print(\"not eligible to sit in exam\")"
   ]
  },
  {
   "cell_type": "code",
   "execution_count": null,
   "id": "d53f394e-0a0f-47f9-be1d-370011137ca7",
   "metadata": {},
   "outputs": [],
   "source": [
    "                                        Task no 8\n",
    "Tax Calculator: Calculate tax based on income (tax rate: 10% for income <50,000, 20% otherwise)."
   ]
  },
  {
   "cell_type": "code",
   "execution_count": 44,
   "id": "0d82e9b7-a780-4a1a-b093-c69839b47fe1",
   "metadata": {},
   "outputs": [
    {
     "name": "stdin",
     "output_type": "stream",
     "text": [
      "amount of purchase 40000\n"
     ]
    },
    {
     "name": "stdout",
     "output_type": "stream",
     "text": [
      "N 4000.0\n"
     ]
    }
   ],
   "source": [
    "A=int(input(\"amount of purchase\"))\n",
    "if(A>50000):\n",
    "    V=A*0.2\n",
    "    print(\"V\",V)\n",
    "else:\n",
    "    N=A*0.1\n",
    "    print(\"N\",N)\n"
   ]
  },
  {
   "cell_type": "code",
   "execution_count": null,
   "id": "8a9d994b-9fb0-458d-b175-d4afaddc2140",
   "metadata": {},
   "outputs": [],
   "source": [
    "Task no 9\n",
    "Discount Calculator: Calculate discount (10% for purchases >1000)."
   ]
  },
  {
   "cell_type": "code",
   "execution_count": 48,
   "id": "192fdde1-407e-47ee-8077-c3dc11f0b8fb",
   "metadata": {},
   "outputs": [
    {
     "name": "stdin",
     "output_type": "stream",
     "text": [
      "amount of purchase 5000\n"
     ]
    },
    {
     "name": "stdout",
     "output_type": "stream",
     "text": [
      "after discount total amount=: 4500.0\n"
     ]
    }
   ],
   "source": [
    "amount=int(input(\"amount of purchase\"))\n",
    "if(amount>1000):\n",
    "    discount=amount*0.1\n",
    "    A=amount-discount\n",
    "    print(\"after discount total amount=:\",A)"
   ]
  },
  {
   "cell_type": "markdown",
   "id": "71623f05-ec71-43db-8f51-043729e793ca",
   "metadata": {},
   "source": [
    " "
   ]
  }
 ],
 "metadata": {
  "kernelspec": {
   "display_name": "Python 3 (ipykernel)",
   "language": "python",
   "name": "python3"
  },
  "language_info": {
   "codemirror_mode": {
    "name": "ipython",
    "version": 3
   },
   "file_extension": ".py",
   "mimetype": "text/x-python",
   "name": "python",
   "nbconvert_exporter": "python",
   "pygments_lexer": "ipython3",
   "version": "3.12.4"
  }
 },
 "nbformat": 4,
 "nbformat_minor": 5
}

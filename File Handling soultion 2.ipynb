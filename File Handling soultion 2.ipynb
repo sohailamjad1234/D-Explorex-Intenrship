{
 "cells": [
  {
   "cell_type": "code",
   "execution_count": null,
   "id": "87efe9af-b791-495b-93fc-e0b1903ecc54",
   "metadata": {},
   "outputs": [],
   "source": []
  },
  {
   "cell_type": "code",
   "execution_count": null,
   "id": "b7371804-a7f7-4cad-8933-903ed4a60985",
   "metadata": {},
   "outputs": [
    {
     "name": "stdin",
     "output_type": "stream",
     "text": [
      "Enter:\n",
      " 1 for add Account:\n",
      " 2 for view account: 1\n",
      " Enter:\n",
      "a for account title:\n",
      "b for account number: a\n"
     ]
    }
   ],
   "source": [
    "def account_title():\n",
    "    choice=input(\"Enter:\\n 1 for add Account:\\n 2 for view account:\") \n",
    "    if choice==\"1\":\n",
    "        detail=input(\" Enter:\\na for account title:\\nb for account number:\")\n",
    "        if detail== \"a\":\n",
    "            title=input(\"Enter the account title:\")\n",
    "            with open (\"Account_Title.txt\",\"a\") as at:\n",
    "                at.writelines(f\"{title}\\n\")\n",
    "        elif detail==\"b\":            \n",
    "            number=int(input(\"Enter th account number:\"))\n",
    "            with open(\"Account_number.txt\",\"a\") as an:\n",
    "                an.writelines(f\"{number}\\n\")\n",
    "        else:\n",
    "            print(\"Plz press 2 for see your account detail\")\n",
    "    elif choice==\"2\":\n",
    "        with open (\"Account_Title.txt\",\"r\") as rf:\n",
    "            a=rf.readlines()\n",
    "            for i in a:\n",
    "                print(i)\n",
    "        with open (\"Account_number.txt\",\"r\") as rn:\n",
    "            b=rn.readlines()\n",
    "            for i in b:\n",
    "                print(i)\n",
    "    else:\n",
    "        print(\"Inalid instructions\")\n",
    "        \n",
    "account_title()"
   ]
  },
  {
   "cell_type": "code",
   "execution_count": null,
   "id": "f503a673-814d-4d2f-b89b-f528bc424d1a",
   "metadata": {},
   "outputs": [],
   "source": []
  }
 ],
 "metadata": {
  "kernelspec": {
   "display_name": "Python 3 (ipykernel)",
   "language": "python",
   "name": "python3"
  },
  "language_info": {
   "codemirror_mode": {
    "name": "ipython",
    "version": 3
   },
   "file_extension": ".py",
   "mimetype": "text/x-python",
   "name": "python",
   "nbconvert_exporter": "python",
   "pygments_lexer": "ipython3",
   "version": "3.12.4"
  }
 },
 "nbformat": 4,
 "nbformat_minor": 5
}
